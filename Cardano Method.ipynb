{
 "cells": [
  {
   "cell_type": "markdown",
   "id": "0b64679a-a2fe-4b3a-ac76-5dddecf7be71",
   "metadata": {
    "tags": []
   },
   "source": [
    "# Задача 23. Плохая обусловленность метода Кардано\n",
    "## Выполнил: Ванюшкин Д.И\n",
    "#\n",
    "### Метод Кардано (общее представление):\n",
    "###\n",
    "Ещё со времён 7-го класса нас учили решать квадратные уравнения общего вида, \n",
    "мы находили корни данного уравнения по готовой формуле или же заверяли, что таковых нет.\n",
    "А слышали ли Вы из курса школьной программы, что-то про формулу Кардано для решения кубических уравнений общего вида?\n",
    "Ответом на этот вопрос будет скорее всего \"нет\". Так вот, оказывается, что существует формула, позволяющая найти корни\n",
    "даже такого сложного на первый взгяд уравнения.\n",
    "\n",
    "Рассмотрим кубическое уравнение $y^3 + ay^2 + by + c = 0$ В этом уравнении все коэффициенты и неизвестная $y$ - комплексные числа\n",
    "После замены $ y = x - \\frac{a}{3} $ в уравнении третьей степени (см. выше) исчезает член с квадратом неизвестной $y$. Уравнение примет вид:\n",
    "$$ x^3 + px + q = 0 $$\n",
    "Его можно найти в виде:\n",
    "$$ x = \\alpha + \\beta $$\n",
    "Где числа $\\alpha$ и $\\beta$ - комплексные числа:\n",
    "   $$ \\alpha = \\sqrt[3]{-\\frac{q}{2} + \\sqrt{\\frac{q^2}{4} + \\frac{p^3}{27}}},   \\beta = \\sqrt[3]{-\\frac{q}{2} - \\sqrt{\\frac{q^2}{4} + \\frac{p^3}{27}}}$$\n",
    "Среди всевозможных комбинаций $\\alpha, \\beta$, получаемых при подстановке всех значений корней кубических, необходимо выбрать лишь те, которые удовлетворяют условию $3\\alpha\\beta + p = 0$.\n",
    "Легко видеть, что если $\\alpha \\neq 0$ и $\\beta \\neq 0$, то таким образом будет получено $3$ решения: для каждого из трех значений $\\alpha$ можно определить единственное $\\beta$.\n",
    "\n",
    "##\n",
    "#### Задача:\n",
    "Реализовать метод Кардано для нахождения корней кубического уравнения $y^3 + ay^2 + by + c = 0$. \n",
    "Функция поиска корней: `y1, y2, y3 = cardano(a,b,c)` должна работать как для уравнений с вещественными, так и комплексными коэффициентами.\n",
    "Необходимо использовать вышеописанный метод для нахождения вещественного корня следующего уравнения:\n",
    "\n",
    "$$\n",
    "y^3 +3y^2 +\\lambda^2y+3\\lambda^2 = 0\n",
    "$$\n",
    "\n",
    "при различных $\\lambda$.\n",
    "Исследуйте потерю точности из-за ошибок округления при больших $\\lambda$\n",
    "(в частности, для $\\lambda$ порядка величины, обратной машинному эпсилон).\n",
    "\n",
    "Сравните результаты с теми, которые получаются методом Брента `scipy.optimize.brentq` и методом Ньютона `scipy.optimize.newton`."
   ]
  },
  {
   "cell_type": "markdown",
   "id": "d7bb80d8-0cc0-45cc-be00-5a49cc96e7fe",
   "metadata": {},
   "source": [
    "### Поиск корней общего уравнения 3-ий степени\n",
    "#### Методы поиска корней взяты из этого источника: https://ru.wikipedia.org/wiki/Формула_Кардано\n",
    "\n",
    "Любое кубическое уравнение общего вида\n",
    "$$\\displaystyle ax^{3}+bx^{2}+cx+d=0$$\n",
    "При помощи замены переменной $\\displaystyle x=y-{\\frac {b}{3a}}$ может быть приведено к следующей канонической форме\n",
    "$$ \\displaystyle y^{3}+py+q=0 $$\n",
    "где $p$ и $q$ - числа, соответственно равные:\n",
    "$$ \\displaystyle p={\\frac {3ac-b^{2}}{3a^{2}}}$$, \n",
    "$$\\displaystyle q={\\frac {2b^{3}-9abc+27a^{2}d}{27a^{3}}}. $$\n",
    "\n",
    "$\\displaystyle Q=\\left({\\frac {p}{3}}\\right)^{3}+\\left({\\frac {q}{2}}\\right)^{2}$ - дискриминант, от знака которого зависит количество комплексных/вещественных корней\n",
    "\n",
    "Если $D > 0$ - имеем 2 комплексных корня и 1 действительный корень\n",
    "Если $D <= 0$ - все корни действительные\n",
    "\n",
    "Корни уравнения будут иметь следующий вид:\n",
    "\n",
    "$$x_1 = \\alpha + \\beta - \\frac{b}{3a}$$\n",
    "$$x_2 = -\\frac{\\alpha + \\beta}{2} + i\\frac{\\alpha - \\beta}{2}\\sqrt{3} - \\frac{b}{3a}$$\n",
    "$$x_3 = -\\frac{\\alpha + \\beta}{2} - i\\frac{\\alpha - \\beta}{2}\\sqrt{3} - \\frac{b}{3a}$$\n",
    "\n",
    "где\n",
    "\n",
    "$$\\displaystyle \\alpha ={\\sqrt[{3}]{-{\\frac {q}{2}}+{\\sqrt {Q}}}},$$\n",
    "$$\\displaystyle \\beta ={\\sqrt[{3}]{-{\\frac {q}{2}}-{\\sqrt {Q}}}},$$\n",
    "\n",
    "##### Напишем функцию, занимающуюся поиском корней приведённого кубического уравнения по 3-м коэффициентам:\n"
   ]
  },
  {
   "cell_type": "code",
   "execution_count": 28,
   "id": "9cdda389-dfc5-4b75-abbd-15fea3bd8a7e",
   "metadata": {},
   "outputs": [],
   "source": [
    "import sys\n",
    "\n",
    "import matplotlib.pyplot as plt\n",
    "import numpy as np\n",
    "import scipy.optimize as opt\n",
    "\n",
    "from scipy.special import cbrt"
   ]
  },
  {
   "cell_type": "code",
   "execution_count": null,
   "id": "16149724-54de-442a-93d0-6c507649c90a",
   "metadata": {},
   "outputs": [],
   "source": [
    "def cardano(a, b, c, d):\n",
    "    \n",
    "    p = (3*a*c - b**2)/(3 * a**2)\n",
    "    q = (2*b**3 - 9*a*b*c + 27 * a**2 * d)/(27 * a**3)\n",
    "    \n",
    "    Q = (p/3)**3 + (q/2)**2\n",
    "    \n",
    "    #Используем sqrt из numpy, дабы можно было получить результат в качестве комплексного числа, если вдруг подкоренное выражение меньше нуля\n",
    "    \n",
    "    alpha = cbrt(-q/2 + np.sqrt(Q))\n",
    "    beta = cbrt(-q/2 - np.sqrt(Q))\n",
    "    \n",
    "    x1 = (alpha + beta) - b/(3*a)\n",
    "    \n",
    "    if Q > 0:\n",
    "        part = 1/2j * (alpha - beta) * np.sqrt(3)\n",
    "    else:\n",
    "        part = 1/2 * (alpha - beta) * np.sqrt(3)\n",
    "    \n",
    "    x2 = -(alpha + beta) / 2 + part - b/(3*a)\n",
    "    x3 = -(alpha + beta) / 2 - part - b/(3*a)\n",
    "\n",
    "    return x1, x2, x3\n",
    "    "
   ]
  },
  {
   "cell_type": "markdown",
   "id": "0184fde0-7efc-4575-b7be-26c4f350d80a",
   "metadata": {},
   "source": [
    "##### Для проверочки, решим кубическое уравнение такого вида:\n",
    "$$ x^3 + x^2 + x + 1 = 0$$\n",
    "В котором один из корней очевиден и это $x_1$ = -1\n",
    "    "
   ]
  },
  {
   "cell_type": "code",
   "execution_count": null,
   "id": "5a98a2ca-2436-4a52-9916-6d0b684f1a52",
   "metadata": {},
   "outputs": [
    {
     "data": {
      "text/plain": [
       "(-1.0,\n",
       " (5.551115123125783e-17-0.9999999999999999j),\n",
       " (5.551115123125783e-17+0.9999999999999999j))"
      ]
     },
     "execution_count": 34,
     "metadata": {},
     "output_type": "execute_result"
    }
   ],
   "source": [
    "cardano(1, 1, 1, 1)"
   ]
  },
  {
   "cell_type": "markdown",
   "id": "838fa17f-095a-4c9e-b5c9-24c80c763297",
   "metadata": {},
   "source": [
    "##### Переходим ко второй части задания, реализуем функцию, зависящую от двух неизвестных:\n",
    "$$f(x, \\lambda) = x^3 +3x^2 +\\lambda^2x+3\\lambda^2$$\n",
    "\n"
   ]
  },
  {
   "cell_type": "code",
   "execution_count": 36,
   "id": "7ae07aa9-8b2d-41c4-84aa-cbd049e7ba9f",
   "metadata": {},
   "outputs": [],
   "source": [
    "def f(x, l):\n",
    "    return x**3 + 3 * x**2 + l**2 * x + 3 * l**2"
   ]
  },
  {
   "cell_type": "markdown",
   "id": "031ba405-9e1e-47b7-a262-004a128e298e",
   "metadata": {},
   "source": [
    "Удобно будет в дальнейшем создать функцию при необходимости получения числа машинной минимальной разницы между двумя числами с плавающей запятой (машинный эпсилон):"
   ]
  },
  {
   "cell_type": "code",
   "execution_count": 37,
   "id": "1d2d2f75-06f5-4bc8-9acb-8f54b9b374a6",
   "metadata": {},
   "outputs": [],
   "source": [
    "def eps():\n",
    "    return sys.float_info.epsilon\n",
    "    "
   ]
  },
  {
   "cell_type": "markdown",
   "id": "f2369423-1105-428d-90d5-b449d33faa0b",
   "metadata": {},
   "source": [
    "#### Построим график, показывающий то, какое отклонение возникает при использовании очень малых чисел\n",
    "    "
   ]
  },
  {
   "cell_type": "code",
   "execution_count": 53,
   "id": "4422290d-8607-4e01-8d54-a70b9c3a71ab",
   "metadata": {},
   "outputs": [
    {
     "data": {
      "image/png": "[encoded data removed]",
      "text/plain": [
       "<Figure size 432x288 with 1 Axes>"
      ]
     },
     "metadata": {
      "needs_background": "light"
     },
     "output_type": "display_data"
    },
    {
     "name": "stdout",
     "output_type": "stream",
     "text": [
      "minY = -9.580141844849942e+30\n",
      "maxY = 9.461991174249836e+30\n"
     ]
    }
   ],
   "source": [
    "minY = 0\n",
    "maxY = 0\n",
    "values = np.linspace(0, 1.0 / eps(), 500) # Диапазон перебираемых чисел (от самого маленького положительного до 500)\n",
    "for x in values:\n",
    "    \n",
    "    #Используем 1-ый корень из уравнения\n",
    "    y = f(cardano(1, 3, x**2, 3*x**2)[0], x)\n",
    "    \n",
    "    if y != 0:\n",
    "        maxY = max(maxY, y)\n",
    "        minY = min(minY, y)\n",
    "        plt.scatter(x, y, c = 'green', s = 10)\n",
    "        \n",
    "#Устанавлиаем верхние и нижние пределы для графика\n",
    "plt.ylim(bottom = minY, top = maxY)\n",
    "\n",
    "plt.show()\n",
    "\n",
    "print('minY =', minY)\n",
    "print('maxY =', maxY)\n",
    "    "
   ]
  },
  {
   "cell_type": "markdown",
   "id": "711a42da-c0ad-4696-93e6-f0ced1f9cc8c",
   "metadata": {},
   "source": [
    "Для удобства сравнения, мы получили максимальное и минимально значения функции отклонения, из этих показателей, как и их графика в целом, становится ясно, что погрешность весомая\n",
    "#### Сравним нашу реализацию метода Кардано, метод Ньютона и метод Брента"
   ]
  },
  {
   "cell_type": "code",
   "execution_count": 57,
   "id": "19685174",
   "metadata": {},
   "outputs": [
    {
     "data": {
      "image/png": "[encoded data removed]",
      "text/plain": [
       "<Figure size 432x288 with 1 Axes>"
      ]
     },
     "metadata": {
      "needs_background": "light"
     },
     "output_type": "display_data"
    }
   ],
   "source": [
    "maxY = 0\n",
    "minY = 0\n",
    "\n",
    "values = np.linspace(0, 1.0 / eps(), 500)\n",
    "\n",
    "for x in values: \n",
    "    expr = lambda _x : f(_x, x)\n",
    "\n",
    "    yCardano = f(cardano(1, 3, x**2, 3*x**2)[0], x)\n",
    "    yNewton = f(opt.newton(expr, 0), x)\n",
    "    yBrentq = f(opt.brentq(expr, -1000, 1000), x)\n",
    "    \n",
    "    if yNewton != 0:\n",
    "        maxY = max(maxY, yNewton)\n",
    "        minY = min(minY, yNewton)\n",
    "\n",
    "        plt.scatter(x, yNewton, c = 'blue', s = 7)\n",
    "        \n",
    "    if yCardano != 0:\n",
    "        maxY = max(maxY, yCardano)\n",
    "        minY = min(minY, yCardano)\n",
    "        \n",
    "        plt.scatter(x, yCardano, c = 'orange', s = 7)\n",
    "        \n",
    "        \n",
    "    if yBrentq != 0:\n",
    "        maxY = max(maxY, yBrentq)\n",
    "        minY = min(minY, yBrentq)\n",
    "\n",
    "        plt.scatter(x, yBrentq, c = 'lightgreen', s = 7)\n",
    "        \n",
    "        \n",
    "plt.ylim(bottom = minY * 1.25, top = maxY * 1.25)\n",
    "plt.show()"
   ]
  },
  {
   "cell_type": "markdown",
   "id": "808b1202-943e-412e-bb5f-6ae5f2337d0c",
   "metadata": {},
   "source": [
    "## Заключение:"
   ]
  },
  {
   "cell_type": "markdown",
   "id": "8975c0a1-708a-41f3-9973-56e968326c64",
   "metadata": {},
   "source": [
    "По последнему графику видно, что метод Кардано уступает методу Ньютона и Брента. Так происходит потому, что формула Кардано даёт погрешности при увеличении параментров. Следовательно, стоит ли пользоваться этим методом? Скорее всего нет, не стоит"
   ]
  }
 ],
 "metadata": {
  "kernelspec": {
   "display_name": "Python 3 (ipykernel)",
   "language": "python",
   "name": "python3"
  },
  "language_info": {
   "codemirror_mode": {
    "name": "ipython",
    "version": 3
   },
   "file_extension": ".py",
   "mimetype": "text/x-python",
   "name": "python",
   "nbconvert_exporter": "python",
   "pygments_lexer": "ipython3",
   "version": "3.9.7"
  }
 },
 "nbformat": 4,
 "nbformat_minor": 5
}
